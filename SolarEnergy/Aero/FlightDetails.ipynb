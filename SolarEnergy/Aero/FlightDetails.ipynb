{
 "cells": [
  {
   "cell_type": "markdown",
   "id": "dabffeef",
   "metadata": {},
   "source": [
    "### Flight Profile\n",
    "\n",
    "The graphs here show the energy state of the plane. The batteries will recharge during the day as the power absorbed by the photo-voltaic panels will exceed that used by the electric motors. During night-time the batteries will rapidly discharge in order to maintain flight. By minimising the power draw - low speed and altitude - it is possible to remain airborne until the morning."
   ]
  },
  {
   "cell_type": "code",
   "execution_count": null,
   "id": "885b3d81",
   "metadata": {},
   "outputs": [],
   "source": [
    "import os\n",
    "import pandas\n",
    "import json\n",
    "\n",
    "def getdataframe(fname):\n",
    "    if os.path.isfile(fname):\n",
    "        jsonpath = fname\n",
    "    else:\n",
    "        mdp = os.path.join(os.getcwd(), 'data')\n",
    "        jsonpath = os.path.join(mdp, sorted(os.listdir(mdp))[1], fname)\n",
    "    print(\"Loading\", jsonpath)\n",
    "    datf = pandas.read_json(jsonpath)\n",
    "    return datf\n",
    "\n",
    "df = getdataframe(\"flightrecord.json\")"
   ]
  },
  {
   "cell_type": "code",
   "execution_count": null,
   "id": "348f91b2",
   "metadata": {
    "scrolled": false
   },
   "outputs": [],
   "source": [
    "from matplotlib import pyplot\n",
    "pyplot.rcParams['figure.figsize'] = [10, 6]\n",
    "fig, axes = pyplot.subplots(nrows=2, ncols=2)\n",
    "fig.suptitle(\"Trip Power Profile (Solar Impulse 2) vs Altitude\")\n",
    "df.plot(x=df.columns[0], y=df.columns[9], ax=axes[0,0])\n",
    "axes[0][0].grid()\n",
    "axes[0,0].set_ylabel(\"Battery Level (%)\")\n",
    "axes[0,0].set_xlabel(\"Journey Time (min)\")\n",
    "axes[0,0].get_legend().set_visible(False)\n",
    "df.plot(x=df.columns[0], y=df.columns[6], ax=axes[0,1])\n",
    "df.plot(x=df.columns[0], y=df.columns[7], ax=axes[0,1])\n",
    "axes[0,1].set_ylabel(\"Power Gain/Loss (Watts)\")\n",
    "axes[0,1].set_xlabel(\"Journey Time (min)\")\n",
    "axes[0,1].get_legend().set_visible(False)\n",
    "df.plot(x=df.columns[0], y=df.columns[5], ax=axes[1,0])\n",
    "axes[1,0].set_ylabel(\"Irradiance ($Wm^2$)\")\n",
    "axes[1,0].set_xlabel(\"Journey Time (min)\")\n",
    "axes[1,0].get_legend().set_visible(False)\n",
    "x = df[df.columns[0]].values.tolist()\n",
    "f1 = df[df.columns[1]].values.tolist()\n",
    "f2 = df[df.columns[4]].values.tolist()\n",
    "axes[1][1].plot(x, f1, 'green')\n",
    "axes[1][1].set_ylabel(\"Speed (mph)\")\n",
    "axes[1,1].set_xlabel(\"Journey Time (min)\")\n",
    "axs2 = axes[1][1].twinx()\n",
    "axs2.plot(x, f2, 'blue')\n",
    "axs2.set_ylabel(\"Altitude (m)\")\n",
    "pyplot.plot()"
   ]
  },
  {
   "cell_type": "code",
   "execution_count": null,
   "id": "b15b8fb0",
   "metadata": {},
   "outputs": [],
   "source": [
    "try:\n",
    "    import plotly\n",
    "except:\n",
    "    !pip install plotly"
   ]
  },
  {
   "cell_type": "code",
   "execution_count": null,
   "id": "97027d28",
   "metadata": {},
   "outputs": [],
   "source": [
    "import plotly.graph_objects as go\n",
    "datpth = go.Scattergeo(lat=df[3], lon=df[2],\n",
    "                  mode=\"markers\",\n",
    "                  hoverinfo=\"text\",\n",
    "                  showlegend=False,\n",
    "                  marker=dict(color=\"orange\", size=4, opacity=0.5))\n",
    "fig = go.Figure(data=datpth)\n",
    "fig.update_geos(projection_type=\"orthographic\")\n",
    "fig.show()"
   ]
  },
  {
   "cell_type": "code",
   "execution_count": null,
   "id": "6c45e149",
   "metadata": {},
   "outputs": [],
   "source": [
    "df.columns = [\"t\",\"v\",\"lon\",\"lat\",\"alt\",\"irrad\",\"egain\",\"eloss\",\"ebatt\",\"perc\"]\n",
    "df"
   ]
  },
  {
   "cell_type": "code",
   "execution_count": null,
   "id": "a9d08f88",
   "metadata": {},
   "outputs": [],
   "source": [
    "import plotly.express as px\n",
    "df\n",
    "\n",
    "fig = px.scatter_mapbox(data_frame=df, lat='lat', lon='lon',\n",
    "                        color_discrete_sequence=[\"orange\"], zoom=3, height=300)\n",
    "fig.update_layout(\n",
    "    mapbox_style=\"white-bg\",\n",
    "    mapbox_layers=[\n",
    "        {\n",
    "            \"below\": 'traces',\n",
    "            \"sourcetype\": \"raster\",\n",
    "            \"sourceattribution\": \"United States Geological Survey\",\n",
    "            \"source\": [\n",
    "                \"https://basemap.nationalmap.gov/arcgis/rest/services/USGSImageryOnly/MapServer/tile/{z}/{y}/{x}\"\n",
    "            ]\n",
    "        }\n",
    "      ])\n",
    "fig.update_layout(margin={\"r\":0,\"t\":0,\"l\":0,\"b\":0})\n",
    "fig.show()"
   ]
  },
  {
   "cell_type": "code",
   "execution_count": null,
   "id": "6fc30b08",
   "metadata": {},
   "outputs": [],
   "source": []
  }
 ],
 "metadata": {
  "kernelspec": {
   "display_name": "Python 3 (ipykernel)",
   "language": "python",
   "name": "python3"
  },
  "language_info": {
   "codemirror_mode": {
    "name": "ipython",
    "version": 3
   },
   "file_extension": ".py",
   "mimetype": "text/x-python",
   "name": "python",
   "nbconvert_exporter": "python",
   "pygments_lexer": "ipython3",
   "version": "3.9.13"
  }
 },
 "nbformat": 4,
 "nbformat_minor": 5
}
