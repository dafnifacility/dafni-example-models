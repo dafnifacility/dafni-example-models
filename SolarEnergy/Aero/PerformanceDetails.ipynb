{
 "cells": [
  {
   "cell_type": "markdown",
   "id": "79cfcdc8",
   "metadata": {},
   "source": [
    "### Performance Characteristics\n",
    "\n",
    "<img src=\"https://drive.google.com/uc?export=view&id=1bbEY6JHboTimcDzujTWX55cd__C6iM6p\" width=50%;/>\n",
    "\n",
    "By analysing the forces on the aeroplane we can characterise (approximately) the behaviour of the plane in flight. This is shown in the graphs here, the bottom left graph shows the stall and maximum speed of the plane, while the bottom right graph shows the minimum power needed to maintain steady flight (no acceleration or altitude change) at 3 difference altitudes in the troposphere (< 11.5 km)."
   ]
  },
  {
   "cell_type": "code",
   "execution_count": null,
   "id": "313f2ce3",
   "metadata": {},
   "outputs": [],
   "source": [
    "import os\n",
    "import pandas\n",
    "import json\n",
    "\n",
    "def getdataframe(fname):\n",
    "    if os.path.isfile(fname):\n",
    "        jsonpath = fname\n",
    "    else:\n",
    "        mdp = os.path.join(os.getcwd(), 'data')\n",
    "        jsonpath = os.path.join(mdp, os.listdir(mdp)[1], fname)\n",
    "    print(\"Loading\", jsonpath)\n",
    "    datf = pandas.read_json(jsonpath)\n",
    "    return datf\n",
    "\n",
    "df = getdataframe(\"performrecord.json\")"
   ]
  },
  {
   "cell_type": "code",
   "execution_count": null,
   "id": "71407cfe",
   "metadata": {
    "scrolled": false
   },
   "outputs": [],
   "source": [
    "from matplotlib import pyplot\n",
    "pyplot.rcParams['figure.figsize'] = [10, 6]\n",
    "fig, axes = pyplot.subplots(nrows=2, ncols=2)\n",
    "fig.suptitle(\"Flight Performance (Solar Impulse 2) vs Altitude\")\n",
    "df.plot(x=df.columns[0], y=df.columns[1], ax=axes[0,0])\n",
    "axes[0,0].set_xlabel(\"Altitude (m)\")\n",
    "axes[0,0].set_ylabel(\"Air Density ($kg/m^{3}$)\")\n",
    "axes[0,0].get_legend().set_visible(False)\n",
    "df.plot(x=df.columns[0], y=df.columns[2], ax=axes[0,1])\n",
    "axes[0,1].set_ylabel(\"Temperature ($C^0$)\")\n",
    "axes[0,1].set_xlabel(\"Altitude (m)\")\n",
    "axes[0,1].get_legend().set_visible(False)\n",
    "df.plot(x=df.columns[0], y=df.columns[3], ax=axes[1,0], color='steelblue')\n",
    "df.plot(x=df.columns[0], y=df.columns[4], ax=axes[1,0], color='steelblue')\n",
    "axes[1,0].fill_between(df[0].to_list(), df[3].to_list(), df[4].to_list(), alpha=0.2)\n",
    "axes[1,0].set_ylabel(\"Stall/Max Speed (mph)\")\n",
    "axes[1,0].set_xlabel(\"Altitude (m)\")\n",
    "axes[1,0].get_legend().set_visible(False)\n",
    "dll1 = df.iloc[14][5]\n",
    "dll2 = df.iloc[84][5]\n",
    "dll3 = df.iloc[109][5]\n",
    "dfpc1 = pandas.DataFrame(dll1)\n",
    "dfpc2 = pandas.DataFrame(dll2)\n",
    "dfpc3 = pandas.DataFrame(dll3)\n",
    "dfpc1.plot(x=dfpc1.columns[0], y=dfpc1.columns[2], ax=axes[1,1])\n",
    "dfpc1.plot(x=dfpc1.columns[0], y=dfpc1.columns[1], ax=axes[1,1])\n",
    "dfpc2.plot(x=dfpc2.columns[0], y=dfpc2.columns[2], ax=axes[1,1])\n",
    "dfpc3.plot(x=dfpc3.columns[0], y=dfpc3.columns[2], ax=axes[1,1])\n",
    "axes[1,1].get_legend().set_visible(False)\n",
    "axes[1,1].set_ylim(0.0,120.0)\n",
    "axes[1,1].set_xlim(15.0,100.0)\n",
    "axes[1,1].set_xlabel(\"Speed (mph)\")\n",
    "axes[1,1].set_ylabel(\"CL Power (hp)\")"
   ]
  }
 ],
 "metadata": {
  "kernelspec": {
   "display_name": "Python 3 (ipykernel)",
   "language": "python",
   "name": "python3"
  },
  "language_info": {
   "codemirror_mode": {
    "name": "ipython",
    "version": 3
   },
   "file_extension": ".py",
   "mimetype": "text/x-python",
   "name": "python",
   "nbconvert_exporter": "python",
   "pygments_lexer": "ipython3",
   "version": "3.9.13"
  }
 },
 "nbformat": 4,
 "nbformat_minor": 5
}
