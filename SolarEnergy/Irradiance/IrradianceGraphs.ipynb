{
 "cells": [
  {
   "cell_type": "markdown",
   "id": "d9e8e506",
   "metadata": {},
   "source": [
    "## Jupyter Notebook Example - Irradiance\n",
    "\n",
    "This is an example of how to use a Jupyter notebook to look at data from a DAFNI workflow (nb. it can also run offline).\n",
    "This particular example will take the output of the irradiance workflow (for a fixed target area), and uses matplotlib(& python) to create graphs that will demonstrate the irradiance for a given set of input parameters.\n",
    "\n",
    "<img src=\"https://drive.google.com/uc?export=view&id=11Y7lt7TEVs5B2amp6uc8zfhj2aiFB9FO\" alt=\"alt text\" width=\"30%\"/>"
   ]
  },
  {
   "cell_type": "code",
   "execution_count": null,
   "id": "e31fd570",
   "metadata": {},
   "outputs": [],
   "source": [
    "import os\n",
    "import pandas\n",
    "import json\n",
    "\n",
    "def getdataframe(fname):\n",
    "    if os.path.isfile(fname):\n",
    "        jsonpath = fname\n",
    "    else:\n",
    "        mdp = os.path.join(os.getcwd(), 'data')\n",
    "        jsonpath = os.path.join(mdp, os.listdir(mdp)[1], fname)\n",
    "    print(\"Loading\", jsonpath)\n",
    "    datf = pandas.read_json(jsonpath)\n",
    "    return datf\n",
    "\n",
    "df = getdataframe(\"modeldata.json\")"
   ]
  },
  {
   "cell_type": "code",
   "execution_count": null,
   "id": "6ce24b04",
   "metadata": {},
   "outputs": [],
   "source": [
    "# Note, this will need a years worth of data to properly display graphs\n",
    "import datetime\n",
    "from matplotlib import pyplot\n",
    "pyplot.rcParams['figure.figsize'] = [10, 8]\n",
    "fig, axes = pyplot.subplots(nrows=2, ncols=2)\n",
    "df.plot(ax=axes[0,0])\n",
    "axes[0,0].set_xlim([datetime.date(2023, 3, 20), datetime.date(2023, 3, 21)])\n",
    "axes[0,0].set_ylim(0.0, 950.0)\n",
    "axes[0,0].set_ylabel(\"Irradiance ($Wm^{-2}$)\")\n",
    "axes[0,0].get_legend().set_visible(False)\n",
    "axes[0,0].set_title(\"Spring Equinox\")\n",
    "df.plot(ax=axes[0,1])\n",
    "axes[0,1].set_xlim([datetime.date(2023, 6, 21), datetime.date(2023, 6, 22)])\n",
    "axes[0,1].set_ylim(0.0, 950.0)\n",
    "axes[0,1].set_title(\"Summer Solstice\")\n",
    "df.plot(ax=axes[1,0])\n",
    "axes[1,0].set_xlim([datetime.date(2023, 9, 22), datetime.date(2023, 9, 23)])\n",
    "axes[1,0].set_ylim(0.0, 950.0)\n",
    "axes[1,0].set_ylabel(\"Irradiance ($Wm^{-2}$)\")\n",
    "axes[1,0].set_title(\"Autumn Equinox\")\n",
    "df.plot(ax=axes[1,1])\n",
    "axes[1,1].set_xlim([datetime.date(2023, 12, 21), datetime.date(2023, 12, 22)])\n",
    "axes[1,1].set_ylim(0.0, 950.0)\n",
    "axes[1,1].set_title(\"Winter Solstice\")"
   ]
  },
  {
   "cell_type": "code",
   "execution_count": null,
   "id": "50b4d224",
   "metadata": {},
   "outputs": [],
   "source": [
    "pandas.options.mode.chained_assignment = None  # default='warn' , get rid of the false-pos warning\n",
    "dfml = []\n",
    "mn = []\n",
    "mnu = []\n",
    "mnl = []\n",
    "mnn = ['Jan', 'Feb', 'Mar', 'Apr', 'May', 'Jun', 'Jul', 'Aug', 'Sep', 'Oct', 'Nov', 'Dec']\n",
    "imnths = list(range(1,13))\n",
    "for i in imnths:\n",
    "    dftmp = df.loc[(df.index.month==i)]\n",
    "    mn.append(dftmp['POA'].mean())\n",
    "    mnu.append(dftmp['POA'].max())\n",
    "    # Get min\n",
    "    rsmp = dftmp.resample('D')['POA']\n",
    "    dftmp['MIN'] = rsmp.transform('max')\n",
    "    mnl.append(dftmp['MIN'].min())\n",
    "    dfml.append(dftmp)\n",
    "pyplot.rcParams['figure.figsize'] = [6, 4]\n",
    "fig = pyplot.figure()\n",
    "ax = fig.add_subplot(1, 1, 1)\n",
    "ax.plot(mnn, mn, 'o', color='brown')\n",
    "ax.plot(mnn, mnu, color='orange')\n",
    "ax.plot(mnn, mnl, color='orange')\n",
    "ax.fill_between(mnn, mnu, mnl, color='palegoldenrod')\n",
    "ax.grid()\n",
    "ax.set_title(\"Mean Irradiance+Range for a Site in Cairo\")\n",
    "ax.set_ylabel(\"Irradiance ($Wm^{-2}$)\")\n",
    "pandas.options.mode.chained_assignment = 'warn'  # default='warn' , switch back"
   ]
  }
 ],
 "metadata": {
  "kernelspec": {
   "display_name": "Python 3 (ipykernel)",
   "language": "python",
   "name": "python3"
  },
  "language_info": {
   "codemirror_mode": {
    "name": "ipython",
    "version": 3
   },
   "file_extension": ".py",
   "mimetype": "text/x-python",
   "name": "python",
   "nbconvert_exporter": "python",
   "pygments_lexer": "ipython3",
   "version": "3.9.13"
  }
 },
 "nbformat": 4,
 "nbformat_minor": 5
}
