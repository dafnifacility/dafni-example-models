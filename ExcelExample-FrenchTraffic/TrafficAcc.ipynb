{
 "cells": [
  {
   "cell_type": "code",
   "execution_count": null,
   "id": "0c0efcf7-bf40-4b4c-b883-034442fd5964",
   "metadata": {},
   "outputs": [],
   "source": [
    "import os\n",
    "import json\n",
    "import numpy as np\n",
    "import matplotlib.pyplot as plt"
   ]
  },
  {
   "cell_type": "code",
   "execution_count": null,
   "id": "6671e85c-e893-421f-9a58-78c9cc8ea246",
   "metadata": {},
   "outputs": [],
   "source": [
    "jsonp1 = os.path.join(os.environ.get(\"HOME\"), \"data\", os.listdir(\"data\")[1], \"daty.json\")\n",
    "file_o1 = open(jsonp1, \"r\")\n",
    "\n",
    "# Plot Graph showing the distribution of road accidents in France (Met.)\n",
    "# The dotted line is the expected value, for a flat distribution.\n",
    "jdy = json.load(file_o1)\n",
    "plt.plot(jdy.get(\"xval\"), jdy.get(\"percent\").get(\"1970\"), '.-', label=\"1970\")\n",
    "plt.plot(jdy.get(\"xval\"), jdy.get(\"percent\").get(\"1977\"), '.-', label=\"1977\")\n",
    "plt.plot(jdy.get(\"xval\"), jdy.get(\"percent\").get(\"1984\"), '.-', label=\"1984\")\n",
    "plt.plot(jdy.get(\"xval\"), jdy.get(\"percent\").get(\"1991\"), '.-', label=\"1991\")\n",
    "plt.title(\"Distribution of Accidents by Month (Met.France)\")\n",
    "plt.xlabel(\"Month\")\n",
    "plt.ylabel(\"Fraction (of years total)\")\n",
    "plt.legend(loc=\"upper left\")\n",
    "plt.axhline(y=0.083, color='purple', linestyle=':')\n",
    "plt.show()"
   ]
  },
  {
   "cell_type": "code",
   "execution_count": null,
   "id": "3a3519ed-e299-4bae-9663-3fe10480808b",
   "metadata": {},
   "outputs": [],
   "source": [
    "jsonp2 = os.path.join(os.environ.get(\"HOME\"), \"data\", os.listdir(\"data\")[0], \"datm.json\")\n",
    "file_o2 = open(jsonp2, \"r\")\n",
    "\n",
    "# Plot Graph showing the fraction of accidents occuring in August over the years.\n",
    "# Simple polynomial fit to region excluding 2020-21 (Covid Period).\n",
    "jdm = json.load(file_o2)\n",
    "fot = np.polyfit(jdm.get(\"xval\")[:-2], jdm.get(\"percent\").get(\"Aug\")[:-2], 2)\n",
    "tmpy = [float(i) for i in jdm.get(\"xval\")]\n",
    "yfit = fot[0]*np.array(tmpy)*np.array(tmpy) + fot[1]*np.array(tmpy) + fot[2]\n",
    "plt.plot(jdm.get(\"xval\"), jdm.get(\"percent\").get(\"Aug\"), '.-')\n",
    "plt.plot(jdm.get(\"xval\"), yfit, 'r')\n",
    "plt.title(\"Fraction of Road Accidents Occuring in August (Met.France)\")\n",
    "plt.xlabel(\"Year\")\n",
    "plt.ylabel(\"Fraction (of yearly total)\")\n",
    "plt.axvspan(2019.2, 2021.5, color='yellow', alpha=0.25, lw=0)\n",
    "plt.axhline(y=0.083, color='purple', linestyle=':')\n",
    "plt.show()"
   ]
  },
  {
   "cell_type": "code",
   "execution_count": null,
   "id": "99b86748-6a5c-49e8-8376-556bfcdaa29a",
   "metadata": {},
   "outputs": [],
   "source": []
  }
 ],
 "metadata": {
  "kernelspec": {
   "display_name": "Python 3",
   "language": "python",
   "name": "python3"
  },
  "language_info": {
   "codemirror_mode": {
    "name": "ipython",
    "version": 3
   },
   "file_extension": ".py",
   "mimetype": "text/x-python",
   "name": "python",
   "nbconvert_exporter": "python",
   "pygments_lexer": "ipython3",
   "version": "3.8.8"
  }
 },
 "nbformat": 4,
 "nbformat_minor": 5
}
